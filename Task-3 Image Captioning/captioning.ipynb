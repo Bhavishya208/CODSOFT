# Task 3 – Image Captioning (placeholder code)
# Open this in Jupyter Notebook and implement image feature extraction + LSTM caption generation.